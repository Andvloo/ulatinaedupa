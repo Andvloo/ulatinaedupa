{
 "cells": [
  {
   "cell_type": "code",
   "execution_count": 2,
   "id": "6b697eb1",
   "metadata": {},
   "outputs": [],
   "source": [
    "import math"
   ]
  },
  {
   "cell_type": "code",
   "execution_count": 3,
   "id": "2974db74",
   "metadata": {},
   "outputs": [
    {
     "name": "stdout",
     "output_type": "stream",
     "text": [
      "La media es: 1.797\n",
      "La suma de los valores menos la medida al cuadrado es: 0.03580099999999999\n",
      "La desviacion estandar es: 0.18921152184790438\n"
     ]
    }
   ],
   "source": [
    "# Calcular la desviacion estandar\n",
    "\n",
    "alturas = (1.50, 2.20, 1.56, 1.78, 1.82, 1.90, 1.66, 1.91, 1.76, 1.88)\n",
    "\n",
    "# Calcule la media de los datos\n",
    "x = sum(alturas)\n",
    "media = x / 10\n",
    "\n",
    "print (\"La media es:\", media)\n",
    "\n",
    "diferencia_al_cuadrado = ((altura - media) ** 2 for altura in alturas)\n",
    "\n",
    "suma_de_cuadrado = sum(diferencia_al_cuadrado) / 10\n",
    "\n",
    "desviacion_estandar = math.sqrt(suma_de_cuadrado)\n",
    "\n",
    "print (\"La suma de los valores menos la medida al cuadrado es:\", suma_de_cuadrado)\n",
    "print (\"La desviacion estandar es:\", desviacion_estandar)"
   ]
  },
  {
   "cell_type": "code",
   "execution_count": 4,
   "id": "8384822d",
   "metadata": {},
   "outputs": [],
   "source": [
    "import numpy as np"
   ]
  },
  {
   "cell_type": "code",
   "execution_count": 6,
   "id": "b7171e24",
   "metadata": {},
   "outputs": [
    {
     "name": "stdout",
     "output_type": "stream",
     "text": [
      "Total de datos: 20\n",
      "La media es: 0.49374101939088577\n",
      "La mediana es: 0.5409513141681073\n",
      "La desviación estándar es: 0.26357035986903965\n",
      "El arrelgo reordenado es:\n",
      " [[0.56744434 0.68719795 0.84637069 0.3111039 ]\n",
      " [0.23511891 0.65771023 0.66488031 0.49989209]\n",
      " [0.023793   0.87774166 0.45262683 0.64304196]\n",
      " [0.06347146 0.10628535 0.13551828 0.70308021]\n",
      " [0.86561761 0.39396405 0.51445829 0.62550328]]\n",
      "La media de la segunda columna es: 0.5445798468732539\n",
      "La mediana de la tercera fila es: 0.5478343940532926\n",
      "Desviación estándar para los datos de la fila 3 a 5 y las columnas 1 a 3: 0.31070966987044213\n"
     ]
    }
   ],
   "source": [
    "Dataset = [0.56744433976086, 0.6871979493457484, 0.8463706897561651, 0.31110389619407564, 0.23511891089708503,\n",
    "           0.6577102252485975, 0.6648803069356928, 0.49989209380778477, 0.023793000481246773, 0.8777416618364761,\n",
    "           0.45262683262543646, 0.6430419554811486, 0.06347145550399458, 0.10628535246898096, 0.13551828266629173,\n",
    "           0.7030802149078524, 0.8656176079542628, 0.3939640454664668, 0.5144582885753547, 0.6255032779041944]\n",
    "\n",
    "#total de datos\n",
    "total_datos = len(Dataset)\n",
    "print (\"Total de datos:\", total_datos)\n",
    "\n",
    "#media\n",
    "media = np.mean(Dataset)\n",
    "print (\"La media es:\", media)\n",
    "\n",
    "#mediana\n",
    "mediana = np.median(Dataset)\n",
    "print (\"La mediana es:\", mediana)\n",
    "\n",
    "#desviacion estandar\n",
    "desviacion_estandar = np.std(Dataset)\n",
    "print (\"La desviación estándar es:\", desviacion_estandar)\n",
    "\n",
    "#reordenar el arreglo en 5 filas y 4 columnas\n",
    "reordenar = np.array(Dataset).reshape(5, 4)\n",
    "print (\"El arrelgo reordenado es:\\n\", reordenar)\n",
    "\n",
    "#media para la segunda columna\n",
    "media_segunda_columna = np.mean(reordenar[:, 1])\n",
    "print (\"La media de la segunda columna es:\", media_segunda_columna)\n",
    "\n",
    "#mediana para tercera fila\n",
    "mediana_tercera_fila = np.median(reordenar[2, :])\n",
    "print(\"La mediana de la tercera fila es:\", mediana_tercera_fila)\n",
    "\n",
    "#desviación estándar para los datos de la fila 3 a 5 y las columnas 1 a 3\n",
    "datos_fila_3_5_columnas_1_3 = reordenar[2:5, 0:3]\n",
    "desviacion_estandar_fila_3_5_columnas_1_3 = np.std(datos_fila_3_5_columnas_1_3)\n",
    "print(\"Desviación estándar para los datos de la fila 3 a 5 y las columnas 1 a 3:\", desviacion_estandar_fila_3_5_columnas_1_3)"
   ]
  },
  {
   "cell_type": "code",
   "execution_count": null,
   "id": "50c7e40c",
   "metadata": {},
   "outputs": [],
   "source": []
  }
 ],
 "metadata": {
  "kernelspec": {
   "display_name": "Python 3 (ipykernel)",
   "language": "python",
   "name": "python3"
  },
  "language_info": {
   "codemirror_mode": {
    "name": "ipython",
    "version": 3
   },
   "file_extension": ".py",
   "mimetype": "text/x-python",
   "name": "python",
   "nbconvert_exporter": "python",
   "pygments_lexer": "ipython3",
   "version": "3.10.9"
  }
 },
 "nbformat": 4,
 "nbformat_minor": 5
}
