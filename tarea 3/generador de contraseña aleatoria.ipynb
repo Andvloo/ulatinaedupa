{
 "cells": [
  {
   "cell_type": "code",
   "execution_count": 28,
   "id": "7eda005e",
   "metadata": {},
   "outputs": [],
   "source": [
    "import numpy as np"
   ]
  },
  {
   "cell_type": "code",
   "execution_count": 29,
   "id": "2ec4f983",
   "metadata": {},
   "outputs": [
    {
     "name": "stdout",
     "output_type": "stream",
     "text": [
      "Contraseña generada: VDu3dyqZAk29x7\n"
     ]
    }
   ],
   "source": [
    "def generador_password():\n",
    "    minusculas = np.array(list(\"abcdefghijklmnopqrstuvwxyz\"))\n",
    "    mayusculas = np.array(list(\"ABCDEFGHIJKLMNOPQRSTUVWXYZ\"))\n",
    "    numeros = np.array(list(\"0123456789\"))\n",
    "    alfanumerico = np.concatenate((minusculas, mayusculas, numeros))\n",
    "    \n",
    "    primer_caracter = np.random.choice(alfanumerico)\n",
    "    \n",
    "    numeros = np.random.choice(numeros, size=3, replace=False)\n",
    "    \n",
    "    disponibles = np.concatenate((minusculas, mayusculas, numeros))\n",
    "    np.random.shuffle(disponibles)\n",
    "    letras_alfanumericos = disponibles[:np.random.randint(8, 13)]\n",
    "    \n",
    "    password = np.concatenate(([primer_caracter], numeros, letras_alfanumericos))\n",
    "    np.random.shuffle(password)\n",
    "    \n",
    "    return \"\".join(password)\n",
    "\n",
    "password = generador_password()\n",
    "print(\"Contraseña generada:\", password)"
   ]
  },
  {
   "cell_type": "code",
   "execution_count": 30,
   "id": "f5ee3d3f",
   "metadata": {},
   "outputs": [
    {
     "name": "stdout",
     "output_type": "stream",
     "text": [
      "Contraseña válida: True\n",
      "Condiciones no cumplidas\n",
      "-  Longitud válida\n",
      "-  Contiene al menos 1 letra o alfanumérico\n",
      "-  Debe contener exactamente 3 números\n",
      "-  Debe contener exactamente 3 letras mayúsculas\n",
      "-  No se repiten caracteres\n"
     ]
    }
   ],
   "source": [
    "def validar_password(password):\n",
    "    longitud = len(password)\n",
    "    minusculas = sum(1 for c in password if c.islower())\n",
    "    mayusculas = sum(1 for c in password if c.isupper())\n",
    "    numeros = sum(1 for c in password if c.isdigit())\n",
    "    alfanumericos = sum(1 for c in password if c.isalnum())\n",
    "    \n",
    "    condiciones = []\n",
    "    \n",
    "    if longitud >= 8 and longitud <=15:\n",
    "        condiciones.append(\"Longitud válida\")\n",
    "    else:\n",
    "        condiciones.append(\"La longitud debe estar entre 8 y 15 caracteres\")\n",
    "    \n",
    "    if minusculas + mayusculas >= 1:\n",
    "        condiciones.append(\"Contiene al menos 1 letra o alfanumérico\")\n",
    "    else: \n",
    "        condiciones.append(\"Debe contener al menos 1 letra o alfanumérico\")\n",
    "    \n",
    "    if numeros == 3:\n",
    "        condiciones.append(\"Contiene exactamente 3 números\")\n",
    "    else: \n",
    "        condiciones.append(\"Debe contener exactamente 3 números\")\n",
    "        \n",
    "    if mayusculas == 3:\n",
    "        condiciones.append(\"Contiene exactamente 3 letras mayúsculas\")\n",
    "    else:\n",
    "        condiciones.append(\"Debe contener exactamente 3 letras mayúsculas\")\n",
    "        \n",
    "    if alfanumericos == longitud:\n",
    "        condiciones.append(\"No se repiten caracteres\")\n",
    "    else:\n",
    "        condiciones.append(\"No deben repetirse caracteres\")\n",
    "    \n",
    "    return all(condiciones), condiciones\n",
    "\n",
    "valido, condiciones = validar_password(password)\n",
    "print(\"Contraseña válida:\", valido)\n",
    "print(\"Condiciones no cumplidas\")\n",
    "for condicion in condiciones:\n",
    "    print(\"- \", condicion)"
   ]
  },
  {
   "cell_type": "code",
   "execution_count": null,
   "id": "7fb614ae",
   "metadata": {},
   "outputs": [],
   "source": []
  }
 ],
 "metadata": {
  "kernelspec": {
   "display_name": "Python 3 (ipykernel)",
   "language": "python",
   "name": "python3"
  },
  "language_info": {
   "codemirror_mode": {
    "name": "ipython",
    "version": 3
   },
   "file_extension": ".py",
   "mimetype": "text/x-python",
   "name": "python",
   "nbconvert_exporter": "python",
   "pygments_lexer": "ipython3",
   "version": "3.10.9"
  }
 },
 "nbformat": 4,
 "nbformat_minor": 5
}
