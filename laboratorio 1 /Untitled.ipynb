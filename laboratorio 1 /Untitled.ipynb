{
 "cells": [
  {
   "cell_type": "code",
   "execution_count": 2,
   "id": "ba6ffc6e",
   "metadata": {},
   "outputs": [
    {
     "name": "stdout",
     "output_type": "stream",
     "text": [
      "194.87171000000012\n"
     ]
    }
   ],
   "source": [
    "# Calculando el interes compuesto \n",
    "\n",
    "print (100 * 1.1 ** 7)"
   ]
  },
  {
   "cell_type": "code",
   "execution_count": 10,
   "id": "cecacf44",
   "metadata": {},
   "outputs": [
    {
     "name": "stdout",
     "output_type": "stream",
     "text": [
      "100\n"
     ]
    }
   ],
   "source": [
    "# Crear una variable \n",
    "\n",
    "a = 100\n",
    "\n",
    "# Imprimir la variable\n",
    "\n",
    "print (a)"
   ]
  },
  {
   "cell_type": "code",
   "execution_count": 13,
   "id": "e485da55",
   "metadata": {},
   "outputs": [
    {
     "name": "stdout",
     "output_type": "stream",
     "text": [
      "194.87171000000012\n"
     ]
    }
   ],
   "source": [
    "# Crear la variable ahorros y asignarle el valor de 100\n",
    "ahorro = 100\n",
    "\n",
    "# Crear la variable multiplicador anual\n",
    "mult_anual = 1.1\n",
    "\n",
    "# Calcular el resultado del interes compuesto\n",
    "result = ahorro * mult_anual ** 7\n",
    "\n",
    "# Print out result\n",
    "print (result)"
   ]
  },
  {
   "cell_type": "code",
   "execution_count": 17,
   "id": "cd52170f",
   "metadata": {},
   "outputs": [
    {
     "name": "stdout",
     "output_type": "stream",
     "text": [
      "<class 'str'>\n",
      "<class 'bool'>\n"
     ]
    }
   ],
   "source": [
    "# Crear variable de cadena desc\n",
    "desc: str = \"cadena de texto\"\n",
    "\n",
    "# Crear la variable booleana profit\n",
    "profit: bool = True\n",
    "\n",
    "print (type(desc))\n",
    "print (type(profit))\n"
   ]
  },
  {
   "cell_type": "code",
   "execution_count": null,
   "id": "b099ecfb",
   "metadata": {},
   "outputs": [],
   "source": []
  }
 ],
 "metadata": {
  "kernelspec": {
   "display_name": "Python 3 (ipykernel)",
   "language": "python",
   "name": "python3"
  },
  "language_info": {
   "codemirror_mode": {
    "name": "ipython",
    "version": 3
   },
   "file_extension": ".py",
   "mimetype": "text/x-python",
   "name": "python",
   "nbconvert_exporter": "python",
   "pygments_lexer": "ipython3",
   "version": "3.10.9"
  }
 },
 "nbformat": 4,
 "nbformat_minor": 5
}
