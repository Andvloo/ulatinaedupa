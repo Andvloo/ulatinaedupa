{
 "cells": [
  {
   "cell_type": "code",
   "execution_count": 5,
   "id": "b66925c4",
   "metadata": {},
   "outputs": [
    {
     "name": "stdout",
     "output_type": "stream",
     "text": [
      "Inserte grados celcius aqui: 25\n",
      "la temperatura en Kelvin es: 298.15\n"
     ]
    }
   ],
   "source": [
    "# Realice un programa que inserte la temperatura en grados Celcius y la salida sea la temperatura en grados Kelvim.\n",
    "# La entrada es en 25°C\n",
    "\n",
    "celcius = float(input(\"Inserte grados celcius aqui: \"))\n",
    "kelvin = celcius + 273.15\n",
    "\n",
    "print (\"la temperatura en Kelvin es:\", kelvin)"
   ]
  },
  {
   "cell_type": "code",
   "execution_count": 6,
   "id": "78b2c1b7",
   "metadata": {},
   "outputs": [
    {
     "name": "stdout",
     "output_type": "stream",
     "text": [
      "La temperatura en Kelvin es: 298.15\n"
     ]
    }
   ],
   "source": [
    "celcius = 25\n",
    "kelvin = celcius + 273.15\n",
    "\n",
    "print (\"La temperatura en Kelvin es:\", kelvin)"
   ]
  },
  {
   "cell_type": "code",
   "execution_count": 9,
   "id": "629fc6de",
   "metadata": {},
   "outputs": [
    {
     "name": "stdout",
     "output_type": "stream",
     "text": [
      "La media es: 1.797\n"
     ]
    }
   ],
   "source": [
    "alturas = (1.50, 2.20, 1.56, 1.78, 1.82, 1.90, 1.66, 1.91, 1.76, 1.88)\n",
    "\n",
    "# Calcule la media de los datos\n",
    "x = sum(alturas)\n",
    "media = x / 10\n",
    "\n",
    "print (\"La media es:\", media)"
   ]
  },
  {
   "cell_type": "code",
   "execution_count": 11,
   "id": "1b32a740",
   "metadata": {},
   "outputs": [
    {
     "name": "stdout",
     "output_type": "stream",
     "text": [
      "La media es: 1.797\n"
     ]
    },
    {
     "ename": "NameError",
     "evalue": "name 'math' is not defined",
     "output_type": "error",
     "traceback": [
      "\u001b[0;31m---------------------------------------------------------------------------\u001b[0m",
      "\u001b[0;31mNameError\u001b[0m                                 Traceback (most recent call last)",
      "Cell \u001b[0;32mIn[11], line 15\u001b[0m\n\u001b[1;32m     11\u001b[0m diferencia_al_cuadrado \u001b[38;5;241m=\u001b[39m ((altura \u001b[38;5;241m-\u001b[39m media) \u001b[38;5;241m*\u001b[39m\u001b[38;5;241m*\u001b[39m \u001b[38;5;241m2\u001b[39m \u001b[38;5;28;01mfor\u001b[39;00m altura \u001b[38;5;129;01min\u001b[39;00m alturas)\n\u001b[1;32m     13\u001b[0m suma_de_cuadrado \u001b[38;5;241m=\u001b[39m \u001b[38;5;28msum\u001b[39m(diferencia_al_cuadrado) \u001b[38;5;241m/\u001b[39m \u001b[38;5;241m10\u001b[39m\n\u001b[0;32m---> 15\u001b[0m desviacion_estandar \u001b[38;5;241m=\u001b[39m \u001b[43mmath\u001b[49m\u001b[38;5;241m.\u001b[39msqrt(suma_de_cuadrado)\n\u001b[1;32m     17\u001b[0m \u001b[38;5;28mprint\u001b[39m (\u001b[38;5;124m\"\u001b[39m\u001b[38;5;124mLa desviacion estandar es:\u001b[39m\u001b[38;5;124m\"\u001b[39m, desviacion_estandar)\n",
      "\u001b[0;31mNameError\u001b[0m: name 'math' is not defined"
     ]
    }
   ],
   "source": [
    "# Calcular la desviacion estandar\n",
    "\n",
    "alturas = (1.50, 2.20, 1.56, 1.78, 1.82, 1.90, 1.66, 1.91, 1.76, 1.88)\n",
    "\n",
    "# Calcule la media de los datos\n",
    "x = sum(alturas)\n",
    "media = x / 10\n",
    "\n",
    "print (\"La media es:\", media)\n",
    "\n",
    "diferencia_al_cuadrado = ((altura - media) ** 2 for altura in alturas)\n",
    "\n",
    "suma_de_cuadrado = sum(diferencia_al_cuadrado) / 10\n",
    "\n",
    "desviacion_estandar = math.sqrt(suma_de_cuadrado)\n",
    "\n",
    "print (\"La desviacion estandar es:\", desviacion_estandar)"
   ]
  },
  {
   "cell_type": "code",
   "execution_count": 12,
   "id": "362f5815",
   "metadata": {},
   "outputs": [],
   "source": [
    "import math"
   ]
  },
  {
   "cell_type": "code",
   "execution_count": 15,
   "id": "855bfc52",
   "metadata": {},
   "outputs": [
    {
     "name": "stdout",
     "output_type": "stream",
     "text": [
      "La media es: 1.797\n",
      "La suma de los valores menos la medida al cuadrado es: 0.03580099999999999\n",
      "La desviacion estandar es: 0.18921152184790438\n"
     ]
    }
   ],
   "source": [
    "# Calcular la desviacion estandar\n",
    "\n",
    "alturas = (1.50, 2.20, 1.56, 1.78, 1.82, 1.90, 1.66, 1.91, 1.76, 1.88)\n",
    "\n",
    "# Calcule la media de los datos\n",
    "x = sum(alturas)\n",
    "media = x / 10\n",
    "\n",
    "print (\"La media es:\", media)\n",
    "\n",
    "diferencia_al_cuadrado = ((altura - media) ** 2 for altura in alturas)\n",
    "\n",
    "suma_de_cuadrado = sum(diferencia_al_cuadrado) / 10\n",
    "\n",
    "desviacion_estandar = math.sqrt(suma_de_cuadrado)\n",
    "\n",
    "print (\"La suma de los valores menos la medida al cuadrado es:\", suma_de_cuadrado)\n",
    "print (\"La desviacion estandar es:\", desviacion_estandar)"
   ]
  },
  {
   "cell_type": "code",
   "execution_count": null,
   "id": "52726563",
   "metadata": {},
   "outputs": [],
   "source": []
  }
 ],
 "metadata": {
  "kernelspec": {
   "display_name": "Python 3 (ipykernel)",
   "language": "python",
   "name": "python3"
  },
  "language_info": {
   "codemirror_mode": {
    "name": "ipython",
    "version": 3
   },
   "file_extension": ".py",
   "mimetype": "text/x-python",
   "name": "python",
   "nbconvert_exporter": "python",
   "pygments_lexer": "ipython3",
   "version": "3.10.9"
  }
 },
 "nbformat": 4,
 "nbformat_minor": 5
}
